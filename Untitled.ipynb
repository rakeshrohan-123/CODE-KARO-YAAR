{
 "cells": [
  {
   "cell_type": "code",
   "execution_count": null,
   "metadata": {},
   "outputs": [
    {
     "name": "stdout",
     "output_type": "stream",
     "text": [
      " * Serving Flask app \"__main__\" (lazy loading)\n",
      " * Environment: production\n",
      "   WARNING: This is a development server. Do not use it in a production deployment.\n",
      "   Use a production WSGI server instead.\n",
      " * Debug mode: off\n"
     ]
    },
    {
     "name": "stderr",
     "output_type": "stream",
     "text": [
      " * Running on http://127.0.0.1:5000/ (Press CTRL+C to quit)\n",
      "127.0.0.1 - - [07/Nov/2021 19:50:38] \"\u001b[37mGET / HTTP/1.1\u001b[0m\" 200 -\n",
      "127.0.0.1 - - [07/Nov/2021 19:52:54] \"\u001b[37mPOST /predict HTTP/1.1\u001b[0m\" 200 -\n"
     ]
    },
    {
     "name": "stdout",
     "output_type": "stream",
     "text": [
      "0\n"
     ]
    }
   ],
   "source": [
    "from flask import Flask, render_template, request\n",
    "import joblib\n",
    "import numpy as np\n",
    "\n",
    "app = Flask(__name__)\n",
    "\n",
    "model = joblib.load(\"psycometric.sav\")\n",
    "\n",
    "@app.route('/')\n",
    "def home():\n",
    "    return render_template(\"index.html\")\n",
    "\n",
    "@app.route('/predict', methods=['POST'])\n",
    "def result():\n",
    "    a = float(request.form['a'])\n",
    "    b = float(request.form['b'])\n",
    "    c = float(request.form['c'])\n",
    "    d = float(request.form['d'])\n",
    "    e = float(request.form['e'])\n",
    "    f = float(request.form['f'])\n",
    "    g = float(request.form['g'])\n",
    "    h = float(request.form['h'])\n",
    "    i = float(request.form['i'])\n",
    "    j = float(request.form['j'])\n",
    "    k = float(request.form['k'])\n",
    "    l = float(request.form['l'])\n",
    "    m = float(request.form['m'])\n",
    "    n = float(request.form['n'])\n",
    "    o = float(request.form['o'])\n",
    "    p = float(request.form['p'])\n",
    "    q = float(request.form['q'])\n",
    "    r = float(request.form['r'])\n",
    "    s = float(request.form['s'])\n",
    "    t = float(request.form['t'])\n",
    "    u = float(request.form['u'])\n",
    "    v = float(request.form['v'])\n",
    "    w = float(request.form['w'])\n",
    "    x = float(request.form['x'])\n",
    "    y = float(request.form['y'])\n",
    "    z = float(request.form['z'])\n",
    "    A = float(request.form['A'])\n",
    "    B = float(request.form['B'])\n",
    "    C = float(request.form['C'])\n",
    "    D = float(request.form['D'])\n",
    "    E = float(request.form['E'])\n",
    "    F = float(request.form['F'])\n",
    "    G = float(request.form['G'])\n",
    "    H = float(request.form['H'])\n",
    "    I = float(request.form['I'])\n",
    "    J = float(request.form['J'])\n",
    "    K = float(request.form['K'])\n",
    "    L = float(request.form['L'])\n",
    "    M = float(request.form['M'])\n",
    "    N = float(request.form['N'])\n",
    "    O = float(request.form['O'])\n",
    "    P = float(request.form['P'])\n",
    "    Q = float(request.form['Q'])\n",
    "    R = float(request.form['R'])\n",
    "    S = float(request.form['S'])\n",
    "    T = float(request.form['T'])\n",
    "    U = float(request.form['U'])\n",
    "    V = float(request.form['V'])\n",
    "    W = float(request.form['W'])\n",
    "    X = float(request.form['X'])\n",
    "    \n",
    "    pred = model.predict(np.array([[a,b,c,d,e,f,g,h,i,j,k,l,m,n,o,p,q,r,s,t,u,v,w,x,y,z,A,B,C,D,E,F,G,H,I,J,K,L,M,N,O,P,Q,R,S,T,U,V,W,X]]))\n",
    "    \n",
    "    print(pred[0])\n",
    "    return render_template(\"index.html\", result = pred[0])\n",
    "   \n",
    "    \n",
    "    \n",
    "    \n",
    "\n",
    "if __name__ == '__main__':\n",
    "    app.run()"
   ]
  },
  {
   "cell_type": "code",
   "execution_count": null,
   "metadata": {},
   "outputs": [],
   "source": []
  }
 ],
 "metadata": {
  "kernelspec": {
   "display_name": "Python 3",
   "language": "python",
   "name": "python3"
  },
  "language_info": {
   "codemirror_mode": {
    "name": "ipython",
    "version": 3
   },
   "file_extension": ".py",
   "mimetype": "text/x-python",
   "name": "python",
   "nbconvert_exporter": "python",
   "pygments_lexer": "ipython3",
   "version": "3.7.6"
  }
 },
 "nbformat": 4,
 "nbformat_minor": 4
}
